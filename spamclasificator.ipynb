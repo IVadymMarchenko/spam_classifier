{
 "cells": [
  {
   "cell_type": "code",
   "execution_count": 3,
   "id": "1338ad4d-eecd-4816-a1f7-6df162e3b916",
   "metadata": {},
   "outputs": [],
   "source": [
    "\n",
    "import pandas as pd\n",
    "from sklearn.model_selection import train_test_split,GridSearchCV\n",
    "from sklearn.feature_extraction.text import TfidfVectorizer\n",
    "from sklearn.preprocessing import StandardScaler\n",
    "from sklearn.compose import ColumnTransformer\n",
    "from sklearn.pipeline import Pipeline\n",
    "from sklearn.ensemble import RandomForestClassifier\n",
    "from sklearn.utils.class_weight import compute_class_weight #для взвешивания классов\n",
    "from sklearn.metrics import accuracy_score, precision_score, recall_score, f1_score, roc_auc_score,make_scorer,classification_report\n",
    "import matplotlib.pyplot as plt\n",
    "from sklearn.preprocessing import LabelEncoder\n",
    "import numpy as np\n",
    "import nltk\n",
    "import spacy\n",
    "from sklearn.pipeline import Pipeline\n",
    "from nltk.corpus import stopwords\n",
    "from nltk.tokenize import word_tokenize\n",
    "import string\n",
    "from collections import Counter\n",
    "import seaborn as sns\n",
    "import re"
   ]
  },
  {
   "cell_type": "code",
   "execution_count": 4,
   "id": "e9d9083d-2c26-4a89-b101-26913bb3a778",
   "metadata": {},
   "outputs": [],
   "source": [
    "#завантаження дата сета зі спам і не спам повідомленнями!\n",
    "data=pd.read_csv('extended_mail_data.csv')"
   ]
  },
  {
   "cell_type": "code",
   "execution_count": 5,
   "id": "adc33ece-642e-44a3-a7d2-dcd47bcd98d6",
   "metadata": {},
   "outputs": [
    {
     "data": {
      "text/plain": [
       "(8358, 2)"
      ]
     },
     "execution_count": 5,
     "metadata": {},
     "output_type": "execute_result"
    }
   ],
   "source": [
    "#дивимося розмір\n",
    "data.shape"
   ]
  },
  {
   "cell_type": "code",
   "execution_count": 6,
   "id": "996c3abd-fd34-40f2-8d30-352d1c6b2729",
   "metadata": {},
   "outputs": [
    {
     "data": {
      "text/plain": [
       "Index(['Category', 'Message'], dtype='object')"
      ]
     },
     "execution_count": 6,
     "metadata": {},
     "output_type": "execute_result"
    }
   ],
   "source": [
    "#дивимося колонки\n",
    "data.columns"
   ]
  },
  {
   "cell_type": "code",
   "execution_count": 7,
   "id": "c7ed8bbd-a4c0-4fbf-aae8-3adb63214a24",
   "metadata": {},
   "outputs": [
    {
     "data": {
      "text/html": [
       "<div>\n",
       "<style scoped>\n",
       "    .dataframe tbody tr th:only-of-type {\n",
       "        vertical-align: middle;\n",
       "    }\n",
       "\n",
       "    .dataframe tbody tr th {\n",
       "        vertical-align: top;\n",
       "    }\n",
       "\n",
       "    .dataframe thead th {\n",
       "        text-align: right;\n",
       "    }\n",
       "</style>\n",
       "<table border=\"1\" class=\"dataframe\">\n",
       "  <thead>\n",
       "    <tr style=\"text-align: right;\">\n",
       "      <th></th>\n",
       "      <th>Category</th>\n",
       "      <th>Message</th>\n",
       "    </tr>\n",
       "  </thead>\n",
       "  <tbody>\n",
       "    <tr>\n",
       "      <th>0</th>\n",
       "      <td>ham</td>\n",
       "      <td>Go until jurong point, crazy.. Available only ...</td>\n",
       "    </tr>\n",
       "    <tr>\n",
       "      <th>1</th>\n",
       "      <td>ham</td>\n",
       "      <td>Ok lar... Joking wif u oni...</td>\n",
       "    </tr>\n",
       "    <tr>\n",
       "      <th>2</th>\n",
       "      <td>spam</td>\n",
       "      <td>Free entry in 2 a wkly comp to win FA Cup fina...</td>\n",
       "    </tr>\n",
       "    <tr>\n",
       "      <th>3</th>\n",
       "      <td>ham</td>\n",
       "      <td>U dun say so early hor... U c already then say...</td>\n",
       "    </tr>\n",
       "    <tr>\n",
       "      <th>4</th>\n",
       "      <td>ham</td>\n",
       "      <td>Nah I don't think he goes to usf, he lives aro...</td>\n",
       "    </tr>\n",
       "  </tbody>\n",
       "</table>\n",
       "</div>"
      ],
      "text/plain": [
       "  Category                                            Message\n",
       "0      ham  Go until jurong point, crazy.. Available only ...\n",
       "1      ham                      Ok lar... Joking wif u oni...\n",
       "2     spam  Free entry in 2 a wkly comp to win FA Cup fina...\n",
       "3      ham  U dun say so early hor... U c already then say...\n",
       "4      ham  Nah I don't think he goes to usf, he lives aro..."
      ]
     },
     "execution_count": 7,
     "metadata": {},
     "output_type": "execute_result"
    }
   ],
   "source": [
    "#виведемо перші 5 рядів\n",
    "data.head(5)"
   ]
  },
  {
   "cell_type": "code",
   "execution_count": 8,
   "id": "af2c5da7-4a0e-4040-a5d2-97005c0f809a",
   "metadata": {},
   "outputs": [
    {
     "data": {
      "image/png": "[encoded data removed]",
      "text/plain": [
       "<Figure size 640x480 with 1 Axes>"
      ]
     },
     "metadata": {},
     "output_type": "display_data"
    }
   ],
   "source": [
    "#подивимось на співвідношення класів\n",
    "\n",
    "class_counts = data['Category'].value_counts()\n",
    "class_counts.plot(kind='pie', autopct='%1.1f%%', colors=['blue', 'red'], labels=class_counts.index)\n",
    "plt.title('Class Distribution')\n",
    "plt.ylabel('') \n",
    "plt.show()"
   ]
  },
  {
   "cell_type": "code",
   "execution_count": null,
   "id": "54bfa6bf-978a-408a-9f5c-3922a433be9c",
   "metadata": {},
   "outputs": [],
   "source": []
  },
  {
   "cell_type": "code",
   "execution_count": 9,
   "id": "1ba4350a-8c3e-4650-99a5-d0bba7f525b0",
   "metadata": {},
   "outputs": [
    {
     "name": "stderr",
     "output_type": "stream",
     "text": [
      "[nltk_data] Downloading package punkt to\n",
      "[nltk_data]     C:\\Users\\Intel\\AppData\\Roaming\\nltk_data...\n",
      "[nltk_data]   Package punkt is already up-to-date!\n",
      "[nltk_data] Downloading package stopwords to\n",
      "[nltk_data]     C:\\Users\\Intel\\AppData\\Roaming\\nltk_data...\n",
      "[nltk_data]   Package stopwords is already up-to-date!\n"
     ]
    }
   ],
   "source": [
    "#завантажимо стоп слова для видалення їх з тексту\n",
    "nltk.download('punkt')\n",
    "nltk.download('stopwords')\n",
    "\n",
    "stop_words = set(stopwords.words('english')) "
   ]
  },
  {
   "cell_type": "code",
   "execution_count": 10,
   "id": "6ceb04c5-f0dc-4eca-bcc3-d390b590cb95",
   "metadata": {},
   "outputs": [],
   "source": [
    "# зробимо лемантизацію тексту\n",
    "nlp = spacy.load(\"en_core_web_sm\")"
   ]
  },
  {
   "cell_type": "code",
   "execution_count": 11,
   "id": "2de94ef9-e56a-4887-8b17-1f775a6686a2",
   "metadata": {},
   "outputs": [],
   "source": [
    "#функції обробки тексту\n",
    "\n",
    "def lemmatize_message(text):\n",
    "    doc = nlp(text)\n",
    "    return \" \".join([token.lemma_ for token in doc])\n",
    "\n",
    "\n",
    "def remove_punctuaction(text):\n",
    "    # Створюємо таблицю для перекладу, яка видаляє всі розділові знаки, крім знака оклику\n",
    "    table = str.maketrans('', '', string.punctuation.replace('!', ''))\n",
    "    return text.translate(table)\n",
    "\n",
    "def remove_stop_words(text):\n",
    "    words = word_tokenize(text)\n",
    "    filtered_words = [word for word in words if word.lower() not in stop_words]\n",
    "    return ' '.join(filtered_words)\n",
    "\n",
    "def clean_text(text):\n",
    "    text = re.sub(r'\\d+', '', text)  #Видалення цифр\n",
    "    return text\n",
    "\n",
    "# Об'єднана функція яка послідовно застосовує всі функції\n",
    "def preprocess_text(text):\n",
    "    if pd.isna(text):  # Перевірка на відсутність значення\n",
    "        return '' \n",
    "    text = str(text)  # Перетворення на рядок\n",
    "    text = clean_text(text)  # Видалення цифр\n",
    "    text = remove_punctuaction(text)  # Видалення пунктуації\n",
    "    text = remove_stop_words(text) # Видалення стоп-слова\n",
    "    text = lemmatize_message(text) # лимантизація\n",
    "    return text"
   ]
  },
  {
   "cell_type": "code",
   "execution_count": 12,
   "id": "c3c09a2e-e78f-40c3-a305-66d175f5b40d",
   "metadata": {},
   "outputs": [
    {
     "data": {
      "text/html": [
       "<div>\n",
       "<style scoped>\n",
       "    .dataframe tbody tr th:only-of-type {\n",
       "        vertical-align: middle;\n",
       "    }\n",
       "\n",
       "    .dataframe tbody tr th {\n",
       "        vertical-align: top;\n",
       "    }\n",
       "\n",
       "    .dataframe thead th {\n",
       "        text-align: right;\n",
       "    }\n",
       "</style>\n",
       "<table border=\"1\" class=\"dataframe\">\n",
       "  <thead>\n",
       "    <tr style=\"text-align: right;\">\n",
       "      <th></th>\n",
       "      <th>Category</th>\n",
       "      <th>Message</th>\n",
       "      <th>clean_data</th>\n",
       "    </tr>\n",
       "  </thead>\n",
       "  <tbody>\n",
       "    <tr>\n",
       "      <th>0</th>\n",
       "      <td>ham</td>\n",
       "      <td>Go until jurong point, crazy.. Available only ...</td>\n",
       "      <td>go jurong point crazy Available bugis n great ...</td>\n",
       "    </tr>\n",
       "    <tr>\n",
       "      <th>1</th>\n",
       "      <td>ham</td>\n",
       "      <td>Ok lar... Joking wif u oni...</td>\n",
       "      <td>ok lar Joking wif u oni</td>\n",
       "    </tr>\n",
       "    <tr>\n",
       "      <th>2</th>\n",
       "      <td>spam</td>\n",
       "      <td>Free entry in 2 a wkly comp to win FA Cup fina...</td>\n",
       "      <td>free entry wkly comp win FA Cup final tkts st ...</td>\n",
       "    </tr>\n",
       "    <tr>\n",
       "      <th>3</th>\n",
       "      <td>ham</td>\n",
       "      <td>U dun say so early hor... U c already then say...</td>\n",
       "      <td>u dun say early hor U c already say</td>\n",
       "    </tr>\n",
       "    <tr>\n",
       "      <th>4</th>\n",
       "      <td>ham</td>\n",
       "      <td>Nah I don't think he goes to usf, he lives aro...</td>\n",
       "      <td>Nah do not think go usf live around though</td>\n",
       "    </tr>\n",
       "  </tbody>\n",
       "</table>\n",
       "</div>"
      ],
      "text/plain": [
       "  Category                                            Message   \n",
       "0      ham  Go until jurong point, crazy.. Available only ...  \\\n",
       "1      ham                      Ok lar... Joking wif u oni...   \n",
       "2     spam  Free entry in 2 a wkly comp to win FA Cup fina...   \n",
       "3      ham  U dun say so early hor... U c already then say...   \n",
       "4      ham  Nah I don't think he goes to usf, he lives aro...   \n",
       "\n",
       "                                          clean_data  \n",
       "0  go jurong point crazy Available bugis n great ...  \n",
       "1                            ok lar Joking wif u oni  \n",
       "2  free entry wkly comp win FA Cup final tkts st ...  \n",
       "3                u dun say early hor U c already say  \n",
       "4         Nah do not think go usf live around though  "
      ]
     },
     "execution_count": 12,
     "metadata": {},
     "output_type": "execute_result"
    }
   ],
   "source": [
    "#застосовуємо функції для обробки тексту\n",
    "data.loc[:, 'clean_data'] = data['Message'].apply(preprocess_text)\n",
    "data.head()"
   ]
  },
  {
   "cell_type": "code",
   "execution_count": 13,
   "id": "8bae7cab-9807-414e-86e4-640589126bed",
   "metadata": {},
   "outputs": [
    {
     "data": {
      "text/html": [
       "<div>\n",
       "<style scoped>\n",
       "    .dataframe tbody tr th:only-of-type {\n",
       "        vertical-align: middle;\n",
       "    }\n",
       "\n",
       "    .dataframe tbody tr th {\n",
       "        vertical-align: top;\n",
       "    }\n",
       "\n",
       "    .dataframe thead th {\n",
       "        text-align: right;\n",
       "    }\n",
       "</style>\n",
       "<table border=\"1\" class=\"dataframe\">\n",
       "  <thead>\n",
       "    <tr style=\"text-align: right;\">\n",
       "      <th></th>\n",
       "      <th>Category</th>\n",
       "      <th>clean_data</th>\n",
       "    </tr>\n",
       "  </thead>\n",
       "  <tbody>\n",
       "    <tr>\n",
       "      <th>0</th>\n",
       "      <td>ham</td>\n",
       "      <td>go jurong point crazy Available bugis n great ...</td>\n",
       "    </tr>\n",
       "    <tr>\n",
       "      <th>1</th>\n",
       "      <td>ham</td>\n",
       "      <td>ok lar Joking wif u oni</td>\n",
       "    </tr>\n",
       "    <tr>\n",
       "      <th>2</th>\n",
       "      <td>spam</td>\n",
       "      <td>free entry wkly comp win FA Cup final tkts st ...</td>\n",
       "    </tr>\n",
       "    <tr>\n",
       "      <th>3</th>\n",
       "      <td>ham</td>\n",
       "      <td>u dun say early hor U c already say</td>\n",
       "    </tr>\n",
       "    <tr>\n",
       "      <th>4</th>\n",
       "      <td>ham</td>\n",
       "      <td>Nah do not think go usf live around though</td>\n",
       "    </tr>\n",
       "  </tbody>\n",
       "</table>\n",
       "</div>"
      ],
      "text/plain": [
       "  Category                                         clean_data\n",
       "0      ham  go jurong point crazy Available bugis n great ...\n",
       "1      ham                            ok lar Joking wif u oni\n",
       "2     spam  free entry wkly comp win FA Cup final tkts st ...\n",
       "3      ham                u dun say early hor U c already say\n",
       "4      ham         Nah do not think go usf live around though"
      ]
     },
     "execution_count": 13,
     "metadata": {},
     "output_type": "execute_result"
    }
   ],
   "source": [
    "# видалимо не потрібні колонки\n",
    "drop_columns=['Message']\n",
    "data=data.drop(columns=drop_columns)\n",
    "data.head()"
   ]
  },
  {
   "cell_type": "code",
   "execution_count": 14,
   "id": "45b734da-7898-4338-a4fb-4b053ef41425",
   "metadata": {},
   "outputs": [],
   "source": [
    "#Проаналізуємо графік найчастіших слів у спам повідомленнях\n",
    "spam_corpus = [] \n",
    "for words in data[data['Category']=='spam']['clean_data'].tolist():\n",
    "    for word in words.split():\n",
    "        if len(word)>=2:\n",
    "            spam_corpus.append(word.lower())"
   ]
  },
  {
   "cell_type": "code",
   "execution_count": 15,
   "id": "566f17fd-fde7-4898-bd47-08504946c116",
   "metadata": {},
   "outputs": [
    {
     "data": {
      "image/png": "[encoded data removed]",
      "text/plain": [
       "<Figure size 640x480 with 1 Axes>"
      ]
     },
     "metadata": {},
     "output_type": "display_data"
    }
   ],
   "source": [
    "most_common_words = pd.DataFrame(Counter(spam_corpus).most_common(20), columns=['spam word', 'count'])\n",
    "sns.barplot(x='spam word', y='count', data=most_common_words)\n",
    "plt.xticks(rotation='vertical')\n",
    "plt.show()"
   ]
  },
  {
   "cell_type": "code",
   "execution_count": 16,
   "id": "ad88bed7-80d4-46ae-9c62-f41d561406f0",
   "metadata": {},
   "outputs": [],
   "source": [
    "ham_corpus = [] \n",
    "for msg in data[data['Category'] == 'ham']['clean_data'].tolist():\n",
    "    for word in msg.split():\n",
    "        if len(word)>=2:\n",
    "            ham_corpus.append(word.lower())"
   ]
  },
  {
   "cell_type": "code",
   "execution_count": 17,
   "id": "d00eb03f-bc2c-4399-b778-2ebf06928e13",
   "metadata": {},
   "outputs": [
    {
     "data": {
      "image/png": "[encoded data removed]",
      "text/plain": [
       "<Figure size 640x480 with 1 Axes>"
      ]
     },
     "metadata": {},
     "output_type": "display_data"
    }
   ],
   "source": [
    "# подивимося на найчастіші слова в не спам повідомлення\n",
    "most_common_words_ham = pd.DataFrame(Counter(ham_corpus).most_common(20), columns=['ham word', 'count'])\n",
    "sns.barplot(x='ham word', y='count', data=most_common_words_ham)\n",
    "plt.xticks(rotation='vertical')\n",
    "plt.show()"
   ]
  },
  {
   "cell_type": "code",
   "execution_count": null,
   "id": "ab417047-24e9-474a-aaa4-77f890dd7794",
   "metadata": {},
   "outputs": [],
   "source": [
    "most_common_words = words_counts(data)\n",
    "data = create_features(most_common_words, data)\n",
    "data.head(1)"
   ]
  },
  {
   "cell_type": "code",
   "execution_count": 18,
   "id": "8f8e9d4f-9c6d-476e-98a9-9c57f1f5116a",
   "metadata": {},
   "outputs": [],
   "source": [
    "# Створимо ще одну ознаку з кількістю найпоширеніших слів у спам повідомленнях\n",
    "def words_counts(data):\n",
    "    spam_messages=[]\n",
    "    for words in data[data['Category']=='spam']['clean_data'].tolist():\n",
    "        for word in words.split():\n",
    "            if len(word)>=2:\n",
    "                spam_messages.append(word.lower())\n",
    "    words_count=Counter(spam_messages)\n",
    "    return words_count.most_common(20)\n",
    "\n",
    "\n",
    "def create_features(words_count,data):\n",
    "    words=[word for word,_ in words_count]\n",
    "    for word in words:\n",
    "        data[word] = data['clean_data'].apply(lambda x: x.lower().split().count(word)) \n",
    "        data['message_length'] = data['clean_data'].apply(len) \n",
    "        data['exclamation_count'] = data['clean_data'].apply(lambda x: x.count('!'))\n",
    "        # Количество слов в сообщении\n",
    "        data['word_count'] = data['clean_data'].apply(lambda x: len(x.split()))\n",
    "        # Средняя длина слова\n",
    "        data['avg_word_length'] = data['clean_data'].apply(lambda x: np.mean([len(word) for word in x.split()]) if len(x.split()) > 0 else 0)\n",
    "    return data"
   ]
  },
  {
   "cell_type": "code",
   "execution_count": 19,
   "id": "c725d3af-5756-4ef5-827a-3d988ff315f0",
   "metadata": {},
   "outputs": [
    {
     "data": {
      "text/html": [
       "<div>\n",
       "<style scoped>\n",
       "    .dataframe tbody tr th:only-of-type {\n",
       "        vertical-align: middle;\n",
       "    }\n",
       "\n",
       "    .dataframe tbody tr th {\n",
       "        vertical-align: top;\n",
       "    }\n",
       "\n",
       "    .dataframe thead th {\n",
       "        text-align: right;\n",
       "    }\n",
       "</style>\n",
       "<table border=\"1\" class=\"dataframe\">\n",
       "  <thead>\n",
       "    <tr style=\"text-align: right;\">\n",
       "      <th></th>\n",
       "      <th>Category</th>\n",
       "      <th>clean_data</th>\n",
       "      <th>number</th>\n",
       "      <th>message_length</th>\n",
       "      <th>exclamation_count</th>\n",
       "      <th>word_count</th>\n",
       "      <th>avg_word_length</th>\n",
       "      <th>url</th>\n",
       "      <th>free</th>\n",
       "      <th>hyperlink</th>\n",
       "      <th>...</th>\n",
       "      <th>money</th>\n",
       "      <th>call</th>\n",
       "      <th>please</th>\n",
       "      <th>order</th>\n",
       "      <th>click</th>\n",
       "      <th>offer</th>\n",
       "      <th>name</th>\n",
       "      <th>time</th>\n",
       "      <th>one</th>\n",
       "      <th>business</th>\n",
       "    </tr>\n",
       "  </thead>\n",
       "  <tbody>\n",
       "    <tr>\n",
       "      <th>0</th>\n",
       "      <td>ham</td>\n",
       "      <td>go jurong point crazy Available bugis n great ...</td>\n",
       "      <td>0</td>\n",
       "      <td>82</td>\n",
       "      <td>0</td>\n",
       "      <td>16</td>\n",
       "      <td>4.1875</td>\n",
       "      <td>0</td>\n",
       "      <td>0</td>\n",
       "      <td>0</td>\n",
       "      <td>...</td>\n",
       "      <td>0</td>\n",
       "      <td>0</td>\n",
       "      <td>0</td>\n",
       "      <td>0</td>\n",
       "      <td>0</td>\n",
       "      <td>0</td>\n",
       "      <td>0</td>\n",
       "      <td>0</td>\n",
       "      <td>0</td>\n",
       "      <td>0</td>\n",
       "    </tr>\n",
       "  </tbody>\n",
       "</table>\n",
       "<p>1 rows × 26 columns</p>\n",
       "</div>"
      ],
      "text/plain": [
       "  Category                                         clean_data  number   \n",
       "0      ham  go jurong point crazy Available bugis n great ...       0  \\\n",
       "\n",
       "   message_length  exclamation_count  word_count  avg_word_length  url  free   \n",
       "0              82                  0          16           4.1875    0     0  \\\n",
       "\n",
       "   hyperlink  ...  money  call  please  order  click  offer  name  time  one   \n",
       "0          0  ...      0     0       0      0      0      0     0     0    0  \\\n",
       "\n",
       "   business  \n",
       "0         0  \n",
       "\n",
       "[1 rows x 26 columns]"
      ]
     },
     "execution_count": 19,
     "metadata": {},
     "output_type": "execute_result"
    }
   ],
   "source": [
    "most_common_words = words_counts(data)\n",
    "data = create_features(most_common_words, data)\n",
    "data.head(1)"
   ]
  },
  {
   "cell_type": "code",
   "execution_count": 20,
   "id": "53bb903e-07c7-4fc4-899b-2ded0ac33283",
   "metadata": {},
   "outputs": [
    {
     "data": {
      "text/plain": [
       "Index(['Category', 'clean_data', 'number', 'message_length',\n",
       "       'exclamation_count', 'word_count', 'avg_word_length', 'url', 'free',\n",
       "       'hyperlink', 'get', 'make', 'mail', 'email', 'send', 'receive', 'money',\n",
       "       'call', 'please', 'order', 'click', 'offer', 'name', 'time', 'one',\n",
       "       'business'],\n",
       "      dtype='object')"
      ]
     },
     "execution_count": 20,
     "metadata": {},
     "output_type": "execute_result"
    }
   ],
   "source": [
    "data.columns"
   ]
  },
  {
   "cell_type": "code",
   "execution_count": 35,
   "id": "181983b1-67af-4d61-917c-265bcdf24cbc",
   "metadata": {},
   "outputs": [
    {
     "data": {
      "image/png": "[encoded data removed]",
      "text/plain": [
       "<Figure size 640x480 with 1 Axes>"
      ]
     },
     "metadata": {},
     "output_type": "display_data"
    }
   ],
   "source": [
    "data_grouped = data.groupby('Category')['exclamation_count'].mean().reset_index()\n",
    "\n",
    "# Візуалізація\n",
    "sns.barplot(x='Category', y='exclamation_count', data=data_grouped)\n",
    "plt.title('Среднее количество восклицательных знаков в сообщениях')\n",
    "plt.xlabel('Категория')\n",
    "plt.ylabel('Среднее количество восклицательных знаков')\n",
    "plt.show()"
   ]
  },
  {
   "cell_type": "code",
   "execution_count": 21,
   "id": "ef34e0a3-7456-4b5d-b6e4-a257f1a02aa3",
   "metadata": {},
   "outputs": [
    {
     "data": {
      "image/png": "[encoded data removed]",
      "text/plain": [
       "<Figure size 640x480 with 1 Axes>"
      ]
     },
     "metadata": {},
     "output_type": "display_data"
    }
   ],
   "source": [
    "#поглянемо на середню довжину спам і не спам повідомлень\n",
    "mean_lengths = data.groupby('Category')['message_length'].mean() \n",
    "mean_lengths.plot(kind='bar', color=['blue', 'red'])\n",
    "plt.title('Average Message Length: Spam vs Ham')\n",
    "plt.xlabel('Category')\n",
    "plt.ylabel('Average Message Length (Number of Characters)')\n",
    "plt.xticks(rotation=0)\n",
    "plt.show()"
   ]
  },
  {
   "cell_type": "code",
   "execution_count": 22,
   "id": "1ac98d9a-906a-46d3-b8cf-c0c438751df6",
   "metadata": {},
   "outputs": [
    {
     "data": {
      "text/html": [
       "<div>\n",
       "<style scoped>\n",
       "    .dataframe tbody tr th:only-of-type {\n",
       "        vertical-align: middle;\n",
       "    }\n",
       "\n",
       "    .dataframe tbody tr th {\n",
       "        vertical-align: top;\n",
       "    }\n",
       "\n",
       "    .dataframe thead th {\n",
       "        text-align: right;\n",
       "    }\n",
       "</style>\n",
       "<table border=\"1\" class=\"dataframe\">\n",
       "  <thead>\n",
       "    <tr style=\"text-align: right;\">\n",
       "      <th></th>\n",
       "      <th>Category</th>\n",
       "      <th>clean_data</th>\n",
       "      <th>number</th>\n",
       "      <th>message_length</th>\n",
       "      <th>exclamation_count</th>\n",
       "      <th>word_count</th>\n",
       "      <th>avg_word_length</th>\n",
       "      <th>url</th>\n",
       "      <th>free</th>\n",
       "      <th>hyperlink</th>\n",
       "      <th>...</th>\n",
       "      <th>money</th>\n",
       "      <th>call</th>\n",
       "      <th>please</th>\n",
       "      <th>order</th>\n",
       "      <th>click</th>\n",
       "      <th>offer</th>\n",
       "      <th>name</th>\n",
       "      <th>time</th>\n",
       "      <th>one</th>\n",
       "      <th>business</th>\n",
       "    </tr>\n",
       "  </thead>\n",
       "  <tbody>\n",
       "    <tr>\n",
       "      <th>0</th>\n",
       "      <td>0</td>\n",
       "      <td>go jurong point crazy Available bugis n great ...</td>\n",
       "      <td>0</td>\n",
       "      <td>82</td>\n",
       "      <td>0</td>\n",
       "      <td>16</td>\n",
       "      <td>4.187500</td>\n",
       "      <td>0</td>\n",
       "      <td>0</td>\n",
       "      <td>0</td>\n",
       "      <td>...</td>\n",
       "      <td>0</td>\n",
       "      <td>0</td>\n",
       "      <td>0</td>\n",
       "      <td>0</td>\n",
       "      <td>0</td>\n",
       "      <td>0</td>\n",
       "      <td>0</td>\n",
       "      <td>0</td>\n",
       "      <td>0</td>\n",
       "      <td>0</td>\n",
       "    </tr>\n",
       "    <tr>\n",
       "      <th>1</th>\n",
       "      <td>0</td>\n",
       "      <td>ok lar Joking wif u oni</td>\n",
       "      <td>0</td>\n",
       "      <td>23</td>\n",
       "      <td>0</td>\n",
       "      <td>6</td>\n",
       "      <td>3.000000</td>\n",
       "      <td>0</td>\n",
       "      <td>0</td>\n",
       "      <td>0</td>\n",
       "      <td>...</td>\n",
       "      <td>0</td>\n",
       "      <td>0</td>\n",
       "      <td>0</td>\n",
       "      <td>0</td>\n",
       "      <td>0</td>\n",
       "      <td>0</td>\n",
       "      <td>0</td>\n",
       "      <td>0</td>\n",
       "      <td>0</td>\n",
       "      <td>0</td>\n",
       "    </tr>\n",
       "    <tr>\n",
       "      <th>2</th>\n",
       "      <td>1</td>\n",
       "      <td>free entry wkly comp win FA Cup final tkts st ...</td>\n",
       "      <td>0</td>\n",
       "      <td>106</td>\n",
       "      <td>0</td>\n",
       "      <td>20</td>\n",
       "      <td>4.350000</td>\n",
       "      <td>0</td>\n",
       "      <td>1</td>\n",
       "      <td>0</td>\n",
       "      <td>...</td>\n",
       "      <td>0</td>\n",
       "      <td>0</td>\n",
       "      <td>0</td>\n",
       "      <td>0</td>\n",
       "      <td>0</td>\n",
       "      <td>0</td>\n",
       "      <td>0</td>\n",
       "      <td>0</td>\n",
       "      <td>0</td>\n",
       "      <td>0</td>\n",
       "    </tr>\n",
       "    <tr>\n",
       "      <th>3</th>\n",
       "      <td>0</td>\n",
       "      <td>u dun say early hor U c already say</td>\n",
       "      <td>0</td>\n",
       "      <td>35</td>\n",
       "      <td>0</td>\n",
       "      <td>9</td>\n",
       "      <td>3.000000</td>\n",
       "      <td>0</td>\n",
       "      <td>0</td>\n",
       "      <td>0</td>\n",
       "      <td>...</td>\n",
       "      <td>0</td>\n",
       "      <td>0</td>\n",
       "      <td>0</td>\n",
       "      <td>0</td>\n",
       "      <td>0</td>\n",
       "      <td>0</td>\n",
       "      <td>0</td>\n",
       "      <td>0</td>\n",
       "      <td>0</td>\n",
       "      <td>0</td>\n",
       "    </tr>\n",
       "    <tr>\n",
       "      <th>4</th>\n",
       "      <td>0</td>\n",
       "      <td>Nah do not think go usf live around though</td>\n",
       "      <td>0</td>\n",
       "      <td>42</td>\n",
       "      <td>0</td>\n",
       "      <td>9</td>\n",
       "      <td>3.777778</td>\n",
       "      <td>0</td>\n",
       "      <td>0</td>\n",
       "      <td>0</td>\n",
       "      <td>...</td>\n",
       "      <td>0</td>\n",
       "      <td>0</td>\n",
       "      <td>0</td>\n",
       "      <td>0</td>\n",
       "      <td>0</td>\n",
       "      <td>0</td>\n",
       "      <td>0</td>\n",
       "      <td>0</td>\n",
       "      <td>0</td>\n",
       "      <td>0</td>\n",
       "    </tr>\n",
       "  </tbody>\n",
       "</table>\n",
       "<p>5 rows × 26 columns</p>\n",
       "</div>"
      ],
      "text/plain": [
       "   Category                                         clean_data  number   \n",
       "0         0  go jurong point crazy Available bugis n great ...       0  \\\n",
       "1         0                            ok lar Joking wif u oni       0   \n",
       "2         1  free entry wkly comp win FA Cup final tkts st ...       0   \n",
       "3         0                u dun say early hor U c already say       0   \n",
       "4         0         Nah do not think go usf live around though       0   \n",
       "\n",
       "   message_length  exclamation_count  word_count  avg_word_length  url  free   \n",
       "0              82                  0          16         4.187500    0     0  \\\n",
       "1              23                  0           6         3.000000    0     0   \n",
       "2             106                  0          20         4.350000    0     1   \n",
       "3              35                  0           9         3.000000    0     0   \n",
       "4              42                  0           9         3.777778    0     0   \n",
       "\n",
       "   hyperlink  ...  money  call  please  order  click  offer  name  time  one   \n",
       "0          0  ...      0     0       0      0      0      0     0     0    0  \\\n",
       "1          0  ...      0     0       0      0      0      0     0     0    0   \n",
       "2          0  ...      0     0       0      0      0      0     0     0    0   \n",
       "3          0  ...      0     0       0      0      0      0     0     0    0   \n",
       "4          0  ...      0     0       0      0      0      0     0     0    0   \n",
       "\n",
       "   business  \n",
       "0         0  \n",
       "1         0  \n",
       "2         0  \n",
       "3         0  \n",
       "4         0  \n",
       "\n",
       "[5 rows x 26 columns]"
      ]
     },
     "execution_count": 22,
     "metadata": {},
     "output_type": "execute_result"
    }
   ],
   "source": [
    "# Перетворимо категоріальну ознаку 'Category' для spam 1 для спам 0\n",
    "df = pd.DataFrame(data)\n",
    "\n",
    "# Перетворення категоріальної ознаки 'Category'\n",
    "label_encoder = LabelEncoder()\n",
    "df['Category'] = label_encoder.fit_transform(df['Category']) \n",
    "df.head(5)"
   ]
  },
  {
   "cell_type": "code",
   "execution_count": 23,
   "id": "2d6f1051-89a7-4c4f-8511-b9122d43bf3b",
   "metadata": {},
   "outputs": [
    {
     "name": "stdout",
     "output_type": "stream",
     "text": [
      "8358 8358\n"
     ]
    }
   ],
   "source": [
    "#Векторизуємо текст за допомогою TfidfVectorizer\n",
    "\n",
    "tfidf = TfidfVectorizer(\n",
    "    stop_words='english', \n",
    "    max_features=3000,\n",
    ")\n",
    "\n",
    "\n",
    "tfidf_matrix = tfidf.fit_transform(df['clean_data'])\n",
    "\n",
    "# Перетворимо матрицю в DataFrame для зручності\n",
    "tfidf_df = pd.DataFrame(tfidf_matrix.toarray(), columns=tfidf.get_feature_names_out())\n",
    "\n",
    "# З'єднуємо ознаки\n",
    "X = pd.concat([df.drop(columns=['Category', 'clean_data']), tfidf_df], axis=1)\n",
    "y = df['Category']  \n",
    "print(len(X),len(y))"
   ]
  },
  {
   "cell_type": "code",
   "execution_count": 26,
   "id": "8dbac901-b92d-4a52-975c-cf00be9c90a9",
   "metadata": {},
   "outputs": [],
   "source": [
    "X_train, X_test, y_train, y_test = train_test_split(X, y, test_size=0.2, random_state=42)"
   ]
  },
  {
   "cell_type": "code",
   "execution_count": 27,
   "id": "701ca0af-9a05-4771-b5b3-3b8c0a878c1a",
   "metadata": {},
   "outputs": [],
   "source": [
    "#перемішаємо дані перед навчанням\n",
    "from sklearn.utils import shuffle\n",
    "\n",
    "\n",
    "X_shuffled, y_shuffled = shuffle(X, y, random_state=42)"
   ]
  },
  {
   "cell_type": "code",
   "execution_count": 28,
   "id": "0df12dce-4f12-41e4-8db0-f5cc4e82dd0f",
   "metadata": {},
   "outputs": [],
   "source": [
    "# Ініціалізуємо класифікатор\n",
    "model = RandomForestClassifier(n_estimators=150,max_depth=None,min_samples_split=2, random_state=42,)\n",
    "\n",
    "# Навчання моделі\n",
    "model.fit(X_shuffled,y_shuffled)\n",
    "\n",
    "# Прогнозування на тестових даних\n",
    "y_pred = model.predict(X_test)\n",
    "\n"
   ]
  },
  {
   "cell_type": "code",
   "execution_count": 29,
   "id": "271cc012-d91b-4d75-bc37-f97cc4ce8ca3",
   "metadata": {},
   "outputs": [
    {
     "name": "stdout",
     "output_type": "stream",
     "text": [
      "              precision    recall  f1-score   support\n",
      "\n",
      "           0       1.00      1.00      1.00      1373\n",
      "           1       1.00      1.00      1.00       299\n",
      "\n",
      "    accuracy                           1.00      1672\n",
      "   macro avg       1.00      1.00      1.00      1672\n",
      "weighted avg       1.00      1.00      1.00      1672\n",
      "\n"
     ]
    }
   ],
   "source": [
    "# виведемо звіт про якість моделі з основними метриками\n",
    "print(classification_report(y_test, y_pred))"
   ]
  },
  {
   "cell_type": "code",
   "execution_count": 30,
   "id": "30eec277-fa93-4041-b20f-d52ab2a649e5",
   "metadata": {},
   "outputs": [
    {
     "data": {
      "text/plain": [
       "<Axes: >"
      ]
     },
     "execution_count": 30,
     "metadata": {},
     "output_type": "execute_result"
    },
    {
     "data": {
      "image/png": "[encoded data removed]",
      "text/plain": [
       "<Figure size 640x480 with 2 Axes>"
      ]
     },
     "metadata": {},
     "output_type": "display_data"
    }
   ],
   "source": [
    "#Подивимось на матрицю помилок\n",
    "from sklearn.metrics import confusion_matrix\n",
    "import seaborn as sns\n",
    "\n",
    "cm = confusion_matrix(y_test,y_pred)\n",
    "sns.heatmap(cm, annot=True, fmt='d', cmap='Blues', xticklabels=label_encoder.classes_, yticklabels=label_encoder.classes_)"
   ]
  },
  {
   "cell_type": "code",
   "execution_count": 31,
   "id": "75c4cc9f-cd52-4b1a-ae71-459175b3f4fc",
   "metadata": {},
   "outputs": [
    {
     "data": {
      "text/plain": [
       "['label_encoder.pkl']"
      ]
     },
     "execution_count": 31,
     "metadata": {},
     "output_type": "execute_result"
    }
   ],
   "source": [
    "#збережемо нашу модель\n",
    "import joblib\n",
    "joblib.dump(model, 'random_forest_model.pkl')\n",
    "joblib.dump(tfidf, 'tfidf_vectorizer.pkl')\n",
    "joblib.dump(label_encoder, 'label_encoder.pkl')"
   ]
  },
  {
   "cell_type": "code",
   "execution_count": 33,
   "id": "b0e549a1-af4b-495f-8f98-5fbb94a9401e",
   "metadata": {},
   "outputs": [],
   "source": [
    "# Завантажимо нашу модель\n",
    "clf_loaded = joblib.load('random_forest_model.pkl') # Завантажимо нашу модель\n",
    "tfidf_loaded = joblib.load('tfidf_vectorizer.pkl') #завантажимо збережений TfidfVectorizer, який перетворює текст на числову форму (TF-IDF)\n",
    "label_encoder = joblib.load('label_encoder.pkl') #Завантажимо LabelEncoder, який перетворює мітки класів spam і ham у числа"
   ]
  },
  {
   "cell_type": "code",
   "execution_count": 35,
   "id": "5423e9d7-402c-48fd-92a0-6560e71afc26",
   "metadata": {},
   "outputs": [
    {
     "name": "stdout",
     "output_type": "stream",
     "text": [
      "Message 1: Congratulations! You've won a $1000 prize. Claim i... Prediction: spam, True: spam, Result: +\n",
      "Message 2: Exclusive offer: Get a free iPhone when you sign u... Prediction: spam, True: spam, Result: +\n",
      "Message 3: Your account has been compromised. Click here to v... Prediction: spam, True: spam, Result: +\n",
      "Message 4: Limited-time offer! Save 50% on all products. Act ... Prediction: spam, True: spam, Result: +\n",
      "Message 5: You have an unclaimed gift card. Click here to red... Prediction: spam, True: spam, Result: +\n",
      "Message 6: Urgent: You’ve been selected for a free vacation p... Prediction: spam, True: spam, Result: +\n",
      "Message 7: Get a free quote for life insurance today!... Prediction: spam, True: spam, Result: +\n",
      "Message 8: Hurry! Last chance to win a luxury cruise for two.... Prediction: spam, True: spam, Result: +\n",
      "Message 9: Congratulations! You've been selected to receive a... Prediction: spam, True: spam, Result: +\n",
      "Message 10: Hurry up! For the next 24 hours, we're offering an... Prediction: spam, True: spam, Result: +\n",
      "Message 11: Hi Alex, I saw your request for a copy of the pres... Prediction: ham, True: ham, Result: +\n",
      "Message 12: Dear Mrs. Thompson, I hope this message finds you ... Prediction: ham, True: ham, Result: +\n",
      "Message 13: Hello team, please find attached the updated repor... Prediction: ham, True: ham, Result: +\n",
      "Message 14: Hi Sarah, just wanted to check in and see how your... Prediction: ham, True: ham, Result: +\n",
      "Message 15: Hey, do you want to grab lunch tomorrow?... Prediction: ham, True: ham, Result: +\n",
      "Message 16: Please review the document I sent you and provide ... Prediction: ham, True: ham, Result: +\n",
      "Message 17: Are you coming to the team meeting this afternoon?... Prediction: ham, True: ham, Result: +\n",
      "Message 18: Let’s meet at 6 PM at the coffee shop.... Prediction: ham, True: ham, Result: +\n",
      "Message 19: I’ve attached the presentation for the client. Let... Prediction: ham, True: ham, Result: +\n",
      "Message 20: Don’t forget about the dentist appointment next Tu... Prediction: ham, True: ham, Result: +\n",
      "Message 21: Can you send me the details for the project?... Prediction: ham, True: ham, Result: +\n",
      "Message 22: Looking forward to our meeting on Friday.... Prediction: ham, True: ham, Result: +\n"
     ]
    }
   ],
   "source": [
    "# Список повідомлень для тестування\n",
    "messages = [\n",
    "    #spam\n",
    "    \"Congratulations! You've won a $1000 prize. Claim it now!\",\n",
    "    \"Exclusive offer: Get a free iPhone when you sign up today!\",\n",
    "    \"Your account has been compromised. Click here to verify immediately.\",\n",
    "    \"Limited-time offer! Save 50% on all products. Act fast!\",\n",
    "    \"You have an unclaimed gift card. Click here to redeem it!\",\n",
    "    \"Urgent: You’ve been selected for a free vacation package.\",\n",
    "    \"Get a free quote for life insurance today!\",\n",
    "    \"Hurry! Last chance to win a luxury cruise for two.\",\n",
    "    \"Congratulations! You've been selected to receive a $1000 gift card to your favorite store. To claim your prize, simply click the link below and enter your details. This offer is valid for a limited time only, so act quickly to take advantage of this amazing opportunity!\",\n",
    "    \"Hurry up! For the next 24 hours, we're offering an exclusive buy-one-get-one-free deal on all products in our online store. Don’t miss out on this limited-time promotion. Visit our website now to shop and get double the value for your money!\",\n",
    "\n",
    "    #no spam\n",
    "    \"Hi Alex, I saw your request for a copy of the presentation from last week's seminar. I’ve attached it to this email for your reference. Let me know if you need any additional information or have other questions.\",\n",
    "    \"Dear Mrs. Thompson, I hope this message finds you well. I wanted to confirm our appointment scheduled for next Tuesday at 10 AM. If you need to reschedule or have any questions, please let me know. Sincerely, Dr. Smith\",\n",
    "    \"Hello team, please find attached the updated report for Q3. We need to review the figures and finalize them before our next strategy meeting. Let's aim to have all feedback by end of day tomorrow. Thanks!\",\n",
    "    \"Hi Sarah, just wanted to check in and see how your new project is going. Let me know if you need any help or if there's anything specific we should discuss in our next meeting. Best regards, John\",\n",
    "    \"Hey, do you want to grab lunch tomorrow?\",\n",
    "    \"Please review the document I sent you and provide feedback.\",\n",
    "    \"Are you coming to the team meeting this afternoon?\",\n",
    "    \"Let’s meet at 6 PM at the coffee shop.\",\n",
    "    \"I’ve attached the presentation for the client. Let me know your thoughts.\",\n",
    "    \"Don’t forget about the dentist appointment next Tuesday.\",\n",
    "    \"Can you send me the details for the project?\",\n",
    "    \"Looking forward to our meeting on Friday.\"\n",
    "]\n",
    "\n",
    "# Очікувані мітки (використовуємо 'spam' для спаму та 'ham' для не спаму)\n",
    "true_labels = ['spam','spam','spam','spam', 'spam','spam','spam','spam','spam','spam',\n",
    "               'ham','ham', 'ham','ham','ham','ham','ham','ham','ham','ham','ham','ham']\n",
    "\n",
    "# Цикл з кожного повідомлення\n",
    "for i, message in enumerate(messages):\n",
    "    # Попередня обробка тексту\n",
    "    message_clean = preprocess_text(message)\n",
    "    \n",
    "    # Перетворюємо текст за допомогою TfidfVectorizer\n",
    "    message_tfidf = tfidf_loaded.transform([message_clean])\n",
    "    \n",
    "    # Перетворимо на DataFrame з TF-IDF ознаками\n",
    "    message_df = pd.DataFrame(message_tfidf.toarray(), columns=tfidf_loaded.get_feature_names_out())\n",
    "    \n",
    "    # Створення ознак для нового тексту\n",
    "    message_features = create_features(most_common_words, pd.DataFrame({'clean_data': [message_clean]}))\n",
    "    \n",
    "    # Видалення колонки 'clean_data'\n",
    "    message_features_df = message_features.drop(columns=['clean_data'])\n",
    "\n",
    "    # Об'єднання двох DataFrame по стовбчикам\n",
    "    combined_df = pd.concat([message_features_df, message_df], axis=1)\n",
    "    # Пророцтво\n",
    "    prediction = clf_loaded.predict(combined_df)\n",
    "    predicted_category = label_encoder.inverse_transform(prediction)\n",
    "    \n",
    "    # Перевіряємо результат: порівнюємо передбачену мітку з істинною міткою\n",
    "    result = '+' if (true_labels[i] == predicted_category[0]) else '-'\n",
    "    \n",
    "    print(f'Message {i+1}: {message[:50]}... Prediction: {predicted_category[0]}, True: {true_labels[i]}, Result: {result}')"
   ]
  },
  {
   "cell_type": "code",
   "execution_count": null,
   "id": "f9aeaa9f-b2d3-43ce-b91a-13ca73c6a6a6",
   "metadata": {},
   "outputs": [],
   "source": []
  }
 ],
 "metadata": {
  "kernelspec": {
   "display_name": "Python 3 (ipykernel)",
   "language": "python",
   "name": "python3"
  },
  "language_info": {
   "codemirror_mode": {
    "name": "ipython",
    "version": 3
   },
   "file_extension": ".py",
   "mimetype": "text/x-python",
   "name": "python",
   "nbconvert_exporter": "python",
   "pygments_lexer": "ipython3",
   "version": "3.11.0"
  }
 },
 "nbformat": 4,
 "nbformat_minor": 5
}
